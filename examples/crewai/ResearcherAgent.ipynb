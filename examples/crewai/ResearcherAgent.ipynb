{
 "cells": [
  {
   "cell_type": "markdown",
   "metadata": {},
   "source": [
    "# CrewAI with AgentNeo Integration\n",
    "\n",
    "This Jupyter notebook demonstrates the integration of AgentNeo, a powerful tracing and monitoring tool, with CrewAI, a framework for orchestrating role-playing AI agents. This integration allows for comprehensive analysis and debugging of AI-powered systems."
   ]
  },
  {
   "cell_type": "markdown",
   "metadata": {},
   "source": [
    "## Setup and Imports\n",
    "\n",
    "First, let's import the necessary libraries and set up our environment."
   ]
  },
  {
   "cell_type": "code",
   "execution_count": null,
   "metadata": {},
   "outputs": [],
   "source": [
    "from crewai import Agent, Task, Crew, Process\n",
    "from dotenv import load_dotenv\n",
    "\n",
    "from agentneo import AgentNeo, Tracer\n",
    "\n",
    "# Load environment variables\n",
    "load_dotenv(\"YOUR_ENV_FILE_PATH\")"
   ]
  },
  {
   "cell_type": "markdown",
   "metadata": {},
   "source": [
    "## Initialize AgentNeo Session and Tracer\n",
    "\n",
    "Now, let's set up our AgentNeo session and tracer."
   ]
  },
  {
   "cell_type": "code",
   "execution_count": null,
   "metadata": {},
   "outputs": [],
   "source": [
    "# Create a session\n",
    "neo_session = AgentNeo(session_name=\"crewai_example\")\n",
    "\n",
    "# Connect to a Project\n",
    "neo_session.create_project(project_name=\"crewai_example_project\")\n",
    "\n",
    "# Create tracer\n",
    "tracer = Tracer(session=neo_session)\n",
    "\n",
    "tracer.start()"
   ]
  },
  {
   "cell_type": "markdown",
   "metadata": {},
   "source": [
    "## Define Helper Functions\n",
    "\n",
    "Let's define some helper functions for our AI tools, using AgentNeo's tracing capabilities."
   ]
  },
  {
   "cell_type": "code",
   "execution_count": null,
   "metadata": {},
   "outputs": [],
   "source": [
    "from langchain_community.tools import TavilySearchResults\n",
    "\n",
    "travily_tool = tracer.wrap_langchain_tool(TavilySearchResults())"
   ]
  },
  {
   "cell_type": "markdown",
   "metadata": {},
   "source": [
    "## Define Agents\n",
    "\n",
    "Now, let's create our AI agents using CrewAI."
   ]
  },
  {
   "cell_type": "code",
   "execution_count": null,
   "metadata": {},
   "outputs": [],
   "source": [
    "@tracer.trace_agent(\"researcher\")\n",
    "def create_researcher():\n",
    "    return Agent(\n",
    "        role='Senior Research Analyst',\n",
    "        goal='Uncover cutting-edge developments in AI and data science',\n",
    "        backstory=\"\"\"You work at a leading tech think tank.\n",
    "        Your expertise lies in identifying emerging trends.\n",
    "        You have a knack for dissecting complex data and presenting actionable insights.\"\"\",\n",
    "        verbose=True,\n",
    "        allow_delegation=False,\n",
    "        tools=[travily_tool],\n",
    "    )\n",
    "\n",
    "@tracer.trace_agent(\"writer\")\n",
    "def create_writer():\n",
    "    return Agent(\n",
    "        role='Tech Content Strategist',\n",
    "        goal='Craft compelling content on tech advancements',\n",
    "        backstory=\"\"\"You are a renowned Content Strategist, known for your insightful and engaging articles.\n",
    "        You transform complex concepts into compelling narratives.\"\"\",\n",
    "        verbose=True,\n",
    "        allow_delegation=True,\n",
    "    )\n",
    "\n",
    "researcher = create_researcher()\n",
    "writer = create_writer()"
   ]
  },
  {
   "cell_type": "markdown",
   "metadata": {},
   "source": [
    "## Define Tasks\n",
    "\n",
    "Let's create tasks for our agents."
   ]
  },
  {
   "cell_type": "code",
   "execution_count": null,
   "metadata": {},
   "outputs": [],
   "source": [
    "task1 = Task(\n",
    "  description=\"\"\"Conduct a comprehensive analysis of the latest advancements in AI in 2024.\n",
    "  Identify key trends, breakthrough technologies, and potential industry impacts.\"\"\",\n",
    "  expected_output=\"Full analysis report in bullet points\",\n",
    "  agent=researcher\n",
    ")\n",
    "\n",
    "task2 = Task(\n",
    "  description=\"\"\"Using the insights provided, develop an engaging blog\n",
    "  post that highlights the most significant AI advancements.\n",
    "  Your post should be informative yet accessible, catering to a tech-savvy audience.\n",
    "  Make it sound cool, avoid complex words so it doesn't sound like AI.\"\"\",\n",
    "  expected_output=\"Full blog post of at least 4 paragraphs\",\n",
    "  agent=writer\n",
    ")"
   ]
  },
  {
   "cell_type": "markdown",
   "metadata": {},
   "source": [
    "## Create and Execute Crew\n",
    "\n",
    "Now, let's create our crew and execute the tasks."
   ]
  },
  {
   "cell_type": "code",
   "execution_count": null,
   "metadata": {},
   "outputs": [],
   "source": [
    "crew = Crew(\n",
    "  agents=[researcher, writer],\n",
    "  tasks=[task1, task2],\n",
    "  process=Process.sequential,\n",
    "  verbose=True,\n",
    ")\n",
    "\n",
    "# Get your crew to work!\n",
    "result = crew.kickoff()\n",
    "\n",
    "print(result)\n",
    "\n",
    "tracer.stop()"
   ]
  },
  {
   "cell_type": "markdown",
   "metadata": {},
   "source": [
    "## Stop Tracing and Launch Dashboard\n",
    "\n",
    "Finally, let's stop the tracer and launch the AgentNeo dashboard to analyze the results."
   ]
  },
  {
   "cell_type": "code",
   "execution_count": null,
   "metadata": {},
   "outputs": [],
   "source": [
    "neo_session.launch_dashboard()"
   ]
  },
  {
   "cell_type": "markdown",
   "metadata": {},
   "source": [
    "This notebook demonstrates how to integrate AgentNeo's tracing capabilities with CrewAI, allowing for detailed analysis and monitoring of AI agent interactions and task execution. The AgentNeo dashboard provides valuable insights into the performance and behavior of your AI system."
   ]
  }
 ],
 "metadata": {
  "kernelspec": {
   "display_name": "base",
   "language": "python",
   "name": "python3"
  },
  "language_info": {
   "codemirror_mode": {
    "name": "ipython",
    "version": 3
   },
   "file_extension": ".py",
   "mimetype": "text/x-python",
   "name": "python",
   "nbconvert_exporter": "python",
   "pygments_lexer": "ipython3",
   "version": "3.12.5"
  }
 },
 "nbformat": 4,
 "nbformat_minor": 2
}
