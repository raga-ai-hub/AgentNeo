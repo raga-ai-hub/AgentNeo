{
 "cells": [
  {
   "cell_type": "markdown",
   "metadata": {},
   "source": [
    "\n",
    "# CrewAI with AgentNeo Integration\n",
    "This Jupyter notebook demonstrates the integration of AgentNeo, a powerful tracing and monitoring tool, with CrewAI, a framework for orchestrating role-playing AI agents. This integration allows for comprehensive analysis and debugging of AI-powered systems."
   ]
  },
  {
   "cell_type": "markdown",
   "metadata": {},
   "source": [
    "# Setup and Imports\n",
    "First, let's import the necessary libraries and set up our environment."
   ]
  },
  {
   "cell_type": "code",
   "execution_count": null,
   "metadata": {},
   "outputs": [],
   "source": [
    "from crewai import Agent, Task, Crew, Process\n",
    "from dotenv import load_dotenv\n",
    "\n",
    "from agentneo import AgentNeo, Tracer, Execution ,Evaluation, launch_dashboard\n",
    "\n",
    "# Load environment variables\n",
    "load_dotenv(\"enter your .env path\")"
   ]
  },
  {
   "cell_type": "markdown",
   "metadata": {},
   "source": [
    "\n",
    "# Initialize AgentNeo Session and Tracer\n",
    "Now, let's set up our AgentNeo session and tracer."
   ]
  },
  {
   "cell_type": "code",
   "execution_count": null,
   "metadata": {},
   "outputs": [],
   "source": [
    "# Initialize AgentNeo Session and Tracer\n",
    "neo_session = AgentNeo(session_name=\"marketing_campaign_example103\")\n",
    "\n",
    "# Connect to a Project\n",
    "neo_session.create_project(project_name=\"marketing_campaign_project103\")\n",
    "\n",
    "# Create tracer\n",
    "tracer = Tracer(session=neo_session)\n",
    "\n",
    "tracer.start()\n"
   ]
  },
  {
   "cell_type": "markdown",
   "metadata": {},
   "source": [
    "\n",
    "# Define Helper Functions\n",
    "Let's define some helper functions for our AI tools, using AgentNeo's tracing capabilities."
   ]
  },
  {
   "cell_type": "code",
   "execution_count": 4,
   "metadata": {},
   "outputs": [],
   "source": [
    "from langchain_community.tools import TavilySearchResults\n",
    "\n",
    "seo_tool = tracer.wrap_langchain_tool(TavilySearchResults())"
   ]
  },
  {
   "cell_type": "markdown",
   "metadata": {},
   "source": [
    "# Define Agents\n",
    "Now, let's create our AI agents using CrewAI."
   ]
  },
  {
   "cell_type": "code",
   "execution_count": null,
   "metadata": {},
   "outputs": [],
   "source": [
    "# Define Agents\n",
    "@tracer.trace_agent(\"strategist\")\n",
    "def create_strategist():\n",
    "    return Agent(\n",
    "        role='Marketing Strategist',\n",
    "        goal='Develop a high-impact marketing campaign for a new AI product',\n",
    "        backstory=\"\"\"You are a seasoned marketing strategist at a leading tech company.\n",
    "        You excel at creating data-driven campaigns that resonate with target audiences.\"\"\",\n",
    "        verbose=True,\n",
    "        allow_delegation=False,\n",
    "        tools=[seo_tool],\n",
    "    )\n",
    "\n",
    "@tracer.trace_agent(\"designer\")\n",
    "def create_designer():\n",
    "    return Agent(\n",
    "        role='Creative Director',\n",
    "        goal='Design visually appealing assets for a marketing campaign',\n",
    "        backstory=\"\"\"You are a Creative Director with a flair for developing innovative designs.\n",
    "        You translate marketing concepts into visual masterpieces.\"\"\",\n",
    "        verbose=True,\n",
    "        allow_delegation=True,\n",
    "    )\n",
    "\n",
    "strategist = create_strategist()\n",
    "designer = create_designer()\n"
   ]
  },
  {
   "cell_type": "markdown",
   "metadata": {},
   "source": [
    "# Define Tasks\n",
    "Let's create tasks for our agents."
   ]
  },
  {
   "cell_type": "code",
   "execution_count": 6,
   "metadata": {},
   "outputs": [],
   "source": [
    "# Define Tasks\n",
    "task1 = Task(\n",
    "  description=\"\"\"Develop a comprehensive marketing strategy for launching a new AI product.\n",
    "  Consider SEO, target demographics, and competition analysis.\"\"\",\n",
    "  expected_output=\"Full marketing strategy document\",\n",
    "  agent=strategist\n",
    ")\n",
    "\n",
    "task2 = Task(\n",
    "  description=\"\"\"Create design assets (e.g., social media banners, infographics) based on the marketing strategy.\n",
    "  Ensure consistency with the product's brand identity.\"\"\",\n",
    "  expected_output=\"Designs in PNG format\",\n",
    "  agent=designer\n",
    ")\n"
   ]
  },
  {
   "cell_type": "markdown",
   "metadata": {},
   "source": [
    "\n",
    "# Create and Execute Crew\n",
    "Now, let's create our crew and execute the tasks."
   ]
  },
  {
   "cell_type": "code",
   "execution_count": null,
   "metadata": {},
   "outputs": [],
   "source": [
    "# Create and Execute Crew\n",
    "crew = Crew(\n",
    "  agents=[strategist, designer],\n",
    "  tasks=[task1, task2],\n",
    "  process=Process.sequential,\n",
    "  verbose=True,\n",
    ")\n",
    "\n",
    "# Get your crew to work!\n",
    "result = crew.kickoff()\n",
    "\n",
    "print(result)\n",
    "\n",
    "tracer.stop()"
   ]
  },
  {
   "cell_type": "markdown",
   "metadata": {},
   "source": [
    "# Metrics Evaluation\n",
    "Supported Metrics\n",
    "Goal Decomposition Efficiency (goal_decomposition_efficiency)\n",
    "Goal Fulfillment Rate (goal_fulfillment_rate)\n",
    "Tool Correctness Metric (tool_correctness_metric)\n",
    "Tool Call Success Rate Metric (tool_call_success_rate_metric)"
   ]
  },
  {
   "cell_type": "code",
   "execution_count": 8,
   "metadata": {},
   "outputs": [],
   "source": [
    "exe = Execution(session=neo_session, trace_id=1)\n",
    "\n",
    "# run a single metric\n",
    "exe.execute(metric_list=['tool_call_success_rate_metric'])\n"
   ]
  },
  {
   "cell_type": "code",
   "execution_count": null,
   "metadata": {},
   "outputs": [],
   "source": [
    "#print metric result\n",
    "metric_results = exe.get_results()\n",
    "print(metric_results)"
   ]
  },
  {
   "cell_type": "code",
   "execution_count": null,
   "metadata": {},
   "outputs": [],
   "source": [
    "neo_session.launch_dashboard(port=3000)"
   ]
  },
  {
   "cell_type": "code",
   "execution_count": null,
   "metadata": {},
   "outputs": [],
   "source": []
  }
 ],
 "metadata": {
  "kernelspec": {
   "display_name": "Python 3",
   "language": "python",
   "name": "python3"
  },
  "language_info": {
   "codemirror_mode": {
    "name": "ipython",
    "version": 3
   },
   "file_extension": ".py",
   "mimetype": "text/x-python",
   "name": "python",
   "nbconvert_exporter": "python",
   "pygments_lexer": "ipython3",
   "version": "3.11.10"
  }
 },
 "nbformat": 4,
 "nbformat_minor": 2
}
