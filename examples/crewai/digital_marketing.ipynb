{
 "cells": [
  {
   "cell_type": "markdown",
   "metadata": {},
   "source": [
    "\n",
    "# CrewAI with AgentNeo Integration\n",
    "This Jupyter notebook demonstrates the integration of AgentNeo, a powerful tracing and monitoring tool, with CrewAI, a framework for orchestrating role-playing AI agents. This integration allows for comprehensive analysis and debugging of AI-powered systems."
   ]
  },
  {
   "cell_type": "markdown",
   "metadata": {},
   "source": [
    "# Setup and Imports\n",
    "First, let's import the necessary libraries and set up our environment."
   ]
  },
  {
   "cell_type": "code",
   "execution_count": null,
   "metadata": {},
   "outputs": [],
   "source": [
    "from crewai import Agent, Task, Crew, Process\n",
    "from dotenv import load_dotenv\n",
    "\n",
    "from agentneo import AgentNeo, Tracer, Execution ,Evaluation, launch_dashboard\n",
    "\n",
    "# Load environment variables\n",
    "load_dotenv(\"enter your .env path\")"
   ]
  },
  {
   "cell_type": "markdown",
   "metadata": {},
   "source": [
    "\n",
    "# Initialize AgentNeo Session and Tracer\n",
    "Now, let's set up our AgentNeo session and tracer."
   ]
  },
  {
   "cell_type": "code",
   "execution_count": null,
   "metadata": {},
   "outputs": [],
   "source": [
    "# Initialize AgentNeo Session and Tracer\n",
    "neo_session = AgentNeo(session_name=\"digital_marketing_campaign\")\n",
    "\n",
    "# Connect to a Project\n",
    "neo_session.create_project(project_name=\"digital_marketing_project\")\n",
    "\n",
    "# Create tracer\n",
    "tracer = Tracer(session=neo_session)\n",
    "\n",
    "tracer.start()"
   ]
  },
  {
   "cell_type": "markdown",
   "metadata": {},
   "source": [
    "\n",
    "# Define Helper Functions\n",
    "Let's define some helper functions for our AI tools, using AgentNeo's tracing capabilities."
   ]
  },
  {
   "cell_type": "code",
   "execution_count": 7,
   "metadata": {},
   "outputs": [],
   "source": [
    "from langchain_community.tools import TavilySearchResults\n",
    "\n",
    "seo_tool = tracer.wrap_langchain_tool(TavilySearchResults())"
   ]
  },
  {
   "cell_type": "markdown",
   "metadata": {},
   "source": [
    "# Define Agents\n",
    "Now, let's create our AI agents using CrewAI."
   ]
  },
  {
   "cell_type": "code",
   "execution_count": null,
   "metadata": {},
   "outputs": [],
   "source": [
    "# Define Agents\n",
    "@tracer.trace_agent(\"content_creator\")\n",
    "def create_content_creator():\n",
    "    return Agent(\n",
    "        role='Content Creator',\n",
    "        goal='Produce engaging content for blogs and social media.',\n",
    "        backstory=\"\"\"You are a skilled content creator specializing in crafting compelling narratives.\n",
    "        Your content drives user engagement and brand awareness.\"\"\",\n",
    "        verbose=True,\n",
    "        allow_delegation=False,\n",
    "        tools=[content_tool],\n",
    "    )\n",
    "\n",
    "@tracer.trace_agent(\"social_media_manager\")\n",
    "def create_social_media_manager():\n",
    "    return Agent(\n",
    "        role='Social Media Manager',\n",
    "        goal='Develop and execute a social media strategy to enhance brand presence.',\n",
    "        backstory=\"\"\"As a social media manager, you excel at building brand communities and engaging audiences.\n",
    "        You utilize analytics to inform your strategies.\"\"\",\n",
    "        verbose=True,\n",
    "        allow_delegation=True,\n",
    "        tools=[social_media_tool],\n",
    "    )\n",
    "\n",
    "@tracer.trace_agent(\"analytics_expert\")\n",
    "def create_analytics_expert():\n",
    "    return Agent(\n",
    "        role='Analytics Expert',\n",
    "        goal='Analyze campaign performance and optimize strategies based on data.',\n",
    "        backstory=\"\"\"You are an analytics expert with a knack for interpreting data.\n",
    "        You provide actionable insights that drive marketing decisions.\"\"\",\n",
    "        verbose=True,\n",
    "        allow_delegation=True,\n",
    "        tools=[analytics_tool],\n",
    "    )\n",
    "\n",
    "content_creator = create_content_creator()\n",
    "social_media_manager = create_social_media_manager()\n",
    "analytics_expert = create_analytics_expert()\n",
    "\n"
   ]
  },
  {
   "cell_type": "markdown",
   "metadata": {},
   "source": [
    "# Define Tasks\n",
    "Let's create tasks for our agents."
   ]
  },
  {
   "cell_type": "code",
   "execution_count": 18,
   "metadata": {},
   "outputs": [],
   "source": [
    "# Define Tasks\n",
    "task1 = Task(\n",
    "    description=\"\"\"Create a series of blog posts that highlight the features and benefits of the new product.\n",
    "    Ensure SEO optimization for key search terms.\"\"\",\n",
    "    expected_output=\"A set of blog posts in markdown format\",\n",
    "    agent=content_creator\n",
    ")\n",
    "\n",
    "task2 = Task(\n",
    "    description=\"\"\"Develop a comprehensive social media strategy for the product launch,\n",
    "    including content calendar and engagement tactics.\"\"\",\n",
    "    expected_output=\"Social media strategy document\",\n",
    "    agent=social_media_manager\n",
    ")\n",
    "\n",
    "task3 = Task(\n",
    "    description=\"\"\"Analyze the initial performance metrics of the marketing campaign,\n",
    "    providing insights and recommendations for adjustments.\"\"\",\n",
    "    expected_output=\"Analysis report with recommendations\",\n",
    "    agent=analytics_expert\n",
    ")"
   ]
  },
  {
   "cell_type": "markdown",
   "metadata": {},
   "source": [
    "\n",
    "# Create and Execute Crew\n",
    "Now, let's create our crew and execute the tasks."
   ]
  },
  {
   "cell_type": "code",
   "execution_count": null,
   "metadata": {},
   "outputs": [],
   "source": [
    "# Create and Execute Crew\n",
    "crew = Crew(\n",
    "    agents=[content_creator, social_media_manager, analytics_expert],\n",
    "    tasks=[task1, task2, task3],\n",
    "    process=Process.sequential,\n",
    "    verbose=True,\n",
    ")\n",
    "result = crew.kickoff()\n",
    "\n",
    "print(result)\n",
    "tracer.stop()"
   ]
  },
  {
   "cell_type": "markdown",
   "metadata": {},
   "source": [
    "# Metrics Evaluation\n",
    "Supported Metrics\n",
    "Goal Decomposition Efficiency (goal_decomposition_efficiency)\n",
    "Goal Fulfillment Rate (goal_fulfillment_rate)\n",
    "Tool Correctness Metric (tool_correctness_metric)\n",
    "Tool Call Success Rate Metric (tool_call_success_rate_metric)"
   ]
  },
  {
   "cell_type": "code",
   "execution_count": 15,
   "metadata": {},
   "outputs": [],
   "source": [
    "exe = Execution(session=neo_session, trace_id=1)\n",
    "\n",
    "# run a single metric\n",
    "exe.execute(metric_list=['tool_call_success_rate_metric'])"
   ]
  },
  {
   "cell_type": "code",
   "execution_count": null,
   "metadata": {},
   "outputs": [],
   "source": [
    "#print metric result\n",
    "metric_results = exe.get_results()\n",
    "print(metric_results)"
   ]
  },
  {
   "cell_type": "code",
   "execution_count": null,
   "metadata": {},
   "outputs": [],
   "source": [
    "neo_session.launch_dashboard(port=3000)"
   ]
  }
 ],
 "metadata": {
  "kernelspec": {
   "display_name": "Python 3",
   "language": "python",
   "name": "python3"
  },
  "language_info": {
   "codemirror_mode": {
    "name": "ipython",
    "version": 3
   },
   "file_extension": ".py",
   "mimetype": "text/x-python",
   "name": "python",
   "nbconvert_exporter": "python",
   "pygments_lexer": "ipython3",
   "version": "3.11.10"
  }
 },
 "nbformat": 4,
 "nbformat_minor": 2
}
