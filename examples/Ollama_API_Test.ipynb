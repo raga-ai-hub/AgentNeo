{
 "cells": [
  {
   "cell_type": "code",
   "execution_count": 1,
   "metadata": {},
   "outputs": [],
   "source": [
    "import os\n",
    "import requests\n",
    "from dotenv import load_dotenv\n",
    "from litellm import completion\n",
    "import openai\n",
    "from openai import OpenAI"
   ]
  },
  {
   "cell_type": "code",
   "execution_count": 2,
   "metadata": {},
   "outputs": [
    {
     "name": "stdout",
     "output_type": "stream",
     "text": [
      "Project created successfully\n",
      "Project 'ollama_rest_api_agent_demo_22' found.\n",
      "Tracing Started.\n"
     ]
    }
   ],
   "source": [
    "# Initialize AgentNeo Package\n",
    "import os\n",
    "os.chdir('..')\n",
    "\n",
    "from agentneo import AgentNeo, Tracer, Evaluation,launch_dashboard\n",
    "# Initialize AgentNeo session\n",
    "# Create project\n",
    "neo_session = AgentNeo(session_name=\"ollama_rest_api_test_22\")\n",
    "\n",
    "project_name = \"ollama_rest_api_agent_demo_22\"\n",
    "\n",
    "try:\n",
    "    neo_session.create_project(project_name=project_name)\n",
    "    print(\"Project created successfully\")\n",
    "except:\n",
    "    neo_session.connect_project(project_name=project_name)\n",
    "    print(\"Project connected successfully\")\n",
    "# Start tracing\n",
    "tracer = Tracer(session=neo_session)\n",
    "tracer.start()"
   ]
  },
  {
   "cell_type": "code",
   "execution_count": 3,
   "metadata": {},
   "outputs": [],
   "source": [
    "@tracer.trace_llm_ollama(name=\"ollama_llm_call1\")\n",
    "def ollama_call(prompt, model=\"llama3.2\", stream=False):\n",
    "    params = {\n",
    "        \"model\": model,\n",
    "        \"prompt\": prompt,\n",
    "        \"stream\": stream\n",
    "    }\n",
    "    url = \"http://localhost:11434/api/generate\"\n",
    "    response = requests.post(\n",
    "        url=url,\n",
    "        json=params\n",
    "    )\n",
    "    result = response.json()\n",
    "    return result"
   ]
  },
  {
   "cell_type": "code",
   "execution_count": null,
   "metadata": {},
   "outputs": [],
   "source": [
    "@tracer.trace_agent(name=\"ollama_agent3\")\n",
    "def ollama_agent():\n",
    "    print(\"Welcome to the Ollama\\n\")\n",
    "\n",
    "    extracted_output = ollama_call(\"What is the AI and ML?\")\n",
    "    print(\"\\nExtracted output\")\n",
    "    print(extracted_output)"
   ]
  },
  {
   "cell_type": "code",
   "execution_count": 5,
   "metadata": {},
   "outputs": [
    {
     "name": "stdout",
     "output_type": "stream",
     "text": [
      "Welcome to the Ollama world\n",
      "\n"
     ]
    },
    {
     "name": "stderr",
     "output_type": "stream",
     "text": [
      "DEBUG:agentneo.tracing.agent_tracer:Successfully updated and committed AgentCallModel with id 3\n"
     ]
    },
    {
     "name": "stdout",
     "output_type": "stream",
     "text": [
      "ollama cmng soon\n",
      "\n",
      "Extracted output\n",
      "{'model': 'llama3.2', 'created_at': '2024-11-18T14:52:36.359512Z', 'response': 'AI (Artificial Intelligence) and ML (Machine Learning) are two closely related but distinct concepts in the field of computer science.\\n\\n**Artificial Intelligence (AI)**:\\nAI refers to the development of computer systems that can perform tasks that typically require human intelligence, such as:\\n\\n1. Reasoning and problem-solving\\n2. Learning from experience\\n3. Perception (e.g., image recognition)\\n4. Natural language processing (NLP)\\n\\nThe goal of AI is to create machines that can think, learn, and behave like humans.\\n\\n**Machine Learning (ML)**:\\nML is a subset of AI that focuses specifically on developing algorithms and statistical models that enable machines to learn from data, without being explicitly programmed.\\n\\nIn other words, ML allows computers to improve their performance on a task over time, based on the data they receive. This enables machines to make predictions, classify data, and recognize patterns in large datasets.\\n\\n**Key differences**:\\n\\n1. **Scope**: AI aims to create general intelligent machines that can perform any intellectual task, while ML focuses specifically on developing algorithms that enable machines to learn from data.\\n2. **Approach**: AI often involves symbolic reasoning (using logic and rules) to solve problems, whereas ML uses statistical models and machine learning algorithms to learn from data.\\n\\n**How are they related?**\\nML is a fundamental component of many AI applications, as it enables machines to learn from data and improve their performance over time. In other words, ML provides the \"brain\" that enables computers to make decisions and take actions based on data.\\n\\nTo illustrate this relationship:\\n\\n* Image recognition (AI) can use ML algorithms to train models that can recognize objects in images.\\n* Natural language processing (AI) can use ML to develop chatbots or voice assistants that can understand and respond to human language.\\n\\nIn summary, AI is the broader field of research focused on creating intelligent machines, while ML is a specific approach within AI that enables machines to learn from data.', 'done': True, 'done_reason': 'stop', 'context': [128006, 9125, 128007, 271, 38766, 1303, 33025, 2696, 25, 6790, 220, 2366, 18, 271, 128009, 128006, 882, 128007, 271, 3923, 374, 279, 15592, 323, 20187, 30, 128009, 128006, 78191, 128007, 271, 15836, 320, 9470, 16895, 22107, 8, 323, 20187, 320, 22333, 21579, 8, 527, 1403, 15499, 5552, 719, 12742, 19476, 304, 279, 2115, 315, 6500, 8198, 382, 334, 9470, 16895, 22107, 320, 15836, 33395, 512, 15836, 19813, 311, 279, 4500, 315, 6500, 6067, 430, 649, 2804, 9256, 430, 11383, 1397, 3823, 11478, 11, 1778, 439, 1473, 16, 13, 27857, 287, 323, 3575, 99246, 198, 17, 13, 21579, 505, 3217, 198, 18, 13, 86950, 320, 68, 1326, 2637, 2217, 18324, 340, 19, 13, 18955, 4221, 8863, 320, 45, 12852, 696, 791, 5915, 315, 15592, 374, 311, 1893, 12933, 430, 649, 1781, 11, 4048, 11, 323, 36792, 1093, 12966, 382, 334, 22333, 21579, 320, 2735, 33395, 512, 2735, 374, 264, 27084, 315, 15592, 430, 24400, 11951, 389, 11469, 26249, 323, 29564, 4211, 430, 7431, 12933, 311, 4048, 505, 828, 11, 2085, 1694, 21650, 56168, 382, 644, 1023, 4339, 11, 20187, 6276, 19002, 311, 7417, 872, 5178, 389, 264, 3465, 927, 892, 11, 3196, 389, 279, 828, 814, 5371, 13, 1115, 20682, 12933, 311, 1304, 20492, 11, 49229, 828, 11, 323, 15641, 12912, 304, 3544, 30525, 382, 334, 1622, 12062, 334, 1473, 16, 13, 3146, 11037, 96618, 15592, 22262, 311, 1893, 4689, 25530, 12933, 430, 649, 2804, 904, 20207, 3465, 11, 1418, 20187, 24400, 11951, 389, 11469, 26249, 430, 7431, 12933, 311, 4048, 505, 828, 627, 17, 13, 3146, 29688, 613, 96618, 15592, 3629, 18065, 36396, 33811, 320, 985, 12496, 323, 5718, 8, 311, 11886, 5435, 11, 20444, 20187, 5829, 29564, 4211, 323, 5780, 6975, 26249, 311, 4048, 505, 828, 382, 334, 4438, 527, 814, 5552, 30, 1035, 2735, 374, 264, 16188, 3777, 315, 1690, 15592, 8522, 11, 439, 433, 20682, 12933, 311, 4048, 505, 828, 323, 7417, 872, 5178, 927, 892, 13, 763, 1023, 4339, 11, 20187, 5825, 279, 330, 54160, 1, 430, 20682, 19002, 311, 1304, 11429, 323, 1935, 6299, 3196, 389, 828, 382, 1271, 41468, 420, 5133, 1473, 9, 4758, 18324, 320, 15836, 8, 649, 1005, 20187, 26249, 311, 5542, 4211, 430, 649, 15641, 6302, 304, 5448, 627, 9, 18955, 4221, 8863, 320, 15836, 8, 649, 1005, 20187, 311, 2274, 6369, 63005, 477, 7899, 57619, 430, 649, 3619, 323, 6013, 311, 3823, 4221, 382, 644, 12399, 11, 15592, 374, 279, 27927, 2115, 315, 3495, 10968, 389, 6968, 25530, 12933, 11, 1418, 20187, 374, 264, 3230, 5603, 2949, 15592, 430, 20682, 12933, 311, 4048, 505, 828, 13], 'total_duration': 12468981500, 'load_duration': 19215800, 'prompt_eval_count': 32, 'prompt_eval_duration': 34903000, 'eval_count': 396, 'eval_duration': 12414077000}\n",
      "Tracing Completed.\n",
      "Data saved to the database and JSON file.\n",
      "\n"
     ]
    }
   ],
   "source": [
    "# Main function to run the travel agent\n",
    "def main():\n",
    "    ollama_agent()\n",
    "\n",
    "# Ensure the script runs only when executed directly\n",
    "if __name__ == \"__main__\":\n",
    "    main()\n",
    "    tracer.stop()\n"
   ]
  },
  {
   "cell_type": "code",
   "execution_count": 6,
   "metadata": {},
   "outputs": [
    {
     "name": "stderr",
     "output_type": "stream",
     "text": [
      "INFO:root:Dashboard process started successfully\n",
      "INFO:root:Dashboard launched successfully. Access it at: http://localhost:3001\n"
     ]
    }
   ],
   "source": [
    "neo_session.launch_dashboard(port=3001)"
   ]
  }
 ],
 "metadata": {
  "kernelspec": {
   "display_name": "Python 3",
   "language": "python",
   "name": "python3"
  },
  "language_info": {
   "codemirror_mode": {
    "name": "ipython",
    "version": 3
   },
   "file_extension": ".py",
   "mimetype": "text/x-python",
   "name": "python",
   "nbconvert_exporter": "python",
   "pygments_lexer": "ipython3",
   "version": "3.11.8"
  }
 },
 "nbformat": 4,
 "nbformat_minor": 2
}
